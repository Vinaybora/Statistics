{
 "cells": [
  {
   "cell_type": "markdown",
   "metadata": {},
   "source": [
    "# What is Statistics?"
   ]
  },
  {
   "cell_type": "markdown",
   "metadata": {},
   "source": [
    "##### Statistics is the study of collecting, organizing, and analyzing numbers or data to understand and make decisions based on that information. It helps us find patterns, make predictions, and answer questions from data.\n"
   ]
  },
  {
   "cell_type": "markdown",
   "metadata": {},
   "source": [
    "# Types of Statistics\n",
    "- Descriptive Statistics\n",
    "- Inferential Statistics\n"
   ]
  },
  {
   "cell_type": "markdown",
   "metadata": {},
   "source": [
    "# Descriptive Statistics"
   ]
  },
  {
   "cell_type": "markdown",
   "metadata": {},
   "source": [
    "##### Descriptive statistics summarizes and describes the features of a dataset. It provides simple summaries about the sample and the measures. Common tools in descriptive statistics include:\n",
    "\n",
    "##### 1. Measures of Central Tendency:\n",
    "   -  **Mean**: The average of the data.\n",
    "   -  **Median**: The middle value when the data is ordered.\n",
    "   -  **Mode**: The value that appears most frequently.\n",
    "\n",
    "##### 2. Measures of Dispersion:\n",
    "   -  **Range**: The difference between the maximum and minimum values.\n",
    "   -  **Variance**: A measure of how spread out the data is.\n",
    "   -  **Standard Deviation**: The square root of the variance, representing the average distance from the mean.\n",
    "\n",
    "##### 3. Data Visualization:\n",
    "   -  Graphs such as histograms, bar charts, pie charts, and box plots help to visualize data patterns and distributions.\n"
   ]
  },
  {
   "cell_type": "markdown",
   "metadata": {},
   "source": [
    "# Inferential Statistics\n",
    "Inferential statistics involves drawing conclusions from a sample of data based on probability theory. It allows us to make predictions or generalizations about a population based on the data from a sample. Key concepts in inferential statistics include:\n",
    "\n",
    "#### Hypothesis Testing:\n",
    "- Testing a hypothesis about a population parameter (e.g., mean or proportion) using sample data. This involves calculating a p-value to determine the significance of results.\n",
    "\n",
    "#### Confidence Intervals:\n",
    "- A range of values, derived from the sample data, that is likely to contain the population parameter. For example, a 95% confidence interval means there's a 95% chance the true population parameter lies within that range.\n",
    "\n",
    "#### Regression Analysis:\n",
    "- A method for modeling the relationship between variables. Linear regression, for example, tries to model the relationship between a dependent variable and one or more independent variables.\n",
    "\n",
    "#### Sampling:\n",
    "- Methods of selecting a subset of individuals from a larger population to infer conclusions about the population as a whole.\n"
   ]
  },
  {
   "cell_type": "markdown",
   "metadata": {},
   "source": [
    "## Mean\n",
    "##### In statistics, the **mean** refers to the average of a set of numbers. It is calculated by summing up all the values in a dataset and then dividing by the total number of values. The mean is a measure of central tendency, helping to summarize data with a single representative value.\n",
    "\n",
    "### Formula for Mean:\n",
    "**Mean** = (Sum of all values) / (Number of values)\n",
    "\n",
    "---\n",
    "\n",
    "### Example 1: Simple Numerical Dataset\n",
    "Consider the dataset:  \n",
    "5, 10, 15, 20, 25\n",
    "\n",
    "**Step 1: Find the sum of all values:**  \n",
    "5 + 10 + 15 + 20 + 25 = 75\n",
    "\n",
    "**Step 2: Divide by the number of values:**  \n",
    "Mean = 75 / 5 = 15\n",
    "\n",
    "---\n",
    "\n",
    "### Example 2: Practical Scenario\n",
    "Suppose five students scored the following marks in a math test:  \n",
    "80, 70, 90, 85, 75\n",
    "\n",
    "**Step 1: Find the sum of all scores:**  \n",
    "80 + 70 + 90 + 85 + 75 = 400\n",
    "\n",
    "**Step 2: Divide by the number of students:**  \n",
    "Mean = 400 / 5 = 80\n",
    "\n",
    "So, the average score of the students is **80**.\n",
    "\n",
    "---\n",
    "\n",
    "The mean helps to give a quick snapshot of the dataset's central tendency, but it may not always reflect the distribution of data accurately, especially if there are extreme values (outliers).\n"
   ]
  },
  {
   "cell_type": "markdown",
   "metadata": {},
   "source": []
  }
 ],
 "metadata": {
  "language_info": {
   "name": "python"
  }
 },
 "nbformat": 4,
 "nbformat_minor": 2
}
