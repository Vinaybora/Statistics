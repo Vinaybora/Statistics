{
 "cells": [
  {
   "cell_type": "markdown",
   "metadata": {},
   "source": [
    "# What is Statistics?"
   ]
  },
  {
   "cell_type": "markdown",
   "metadata": {},
   "source": [
    "##### Statistics is the study of collecting, organizing, and analyzing numbers or data to understand and make decisions based on that information. It helps us find patterns, make predictions, and answer questions from data.\n"
   ]
  },
  {
   "cell_type": "markdown",
   "metadata": {},
   "source": [
    "# Types of Statistics\n",
    "- Descriptive Statistics\n",
    "- Inferential Statistics\n"
   ]
  },
  {
   "cell_type": "markdown",
   "metadata": {},
   "source": [
    "# Descriptive Statistics"
   ]
  },
  {
   "cell_type": "markdown",
   "metadata": {},
   "source": [
    "##### Descriptive statistics summarizes and describes the features of a dataset. It provides simple summaries about the sample and the measures. Common tools in descriptive statistics include:\n",
    "\n",
    "##### 1. Measures of Central Tendency:\n",
    "   -  **Mean**: The average of the data.\n",
    "   -  **Median**: The middle value when the data is ordered.\n",
    "   -  **Mode**: The value that appears most frequently.\n",
    "\n",
    "##### 2. Measures of Dispersion:\n",
    "   -  **Range**: The difference between the maximum and minimum values.\n",
    "   -  **Variance**: A measure of how spread out the data is.\n",
    "   -  **Standard Deviation**: The square root of the variance, representing the average distance from the mean.\n",
    "\n",
    "##### 3. Data Visualization:\n",
    "   -  Graphs such as histograms, bar charts, pie charts, and box plots help to visualize data patterns and distributions.\n"
   ]
  },
  {
   "cell_type": "markdown",
   "metadata": {},
   "source": [
    "# Inferential Statistics\n",
    "Inferential statistics involves drawing conclusions from a sample of data based on probability theory. It allows us to make predictions or generalizations about a population based on the data from a sample. Key concepts in inferential statistics include:\n",
    "\n",
    "#### Hypothesis Testing:\n",
    "- Testing a hypothesis about a population parameter (e.g., mean or proportion) using sample data. This involves calculating a p-value to determine the significance of results.\n",
    "\n",
    "#### Confidence Intervals:\n",
    "- A range of values, derived from the sample data, that is likely to contain the population parameter. For example, a 95% confidence interval means there's a 95% chance the true population parameter lies within that range.\n",
    "\n",
    "#### Regression Analysis:\n",
    "- A method for modeling the relationship between variables. Linear regression, for example, tries to model the relationship between a dependent variable and one or more independent variables.\n",
    "\n",
    "#### Sampling:\n",
    "- Methods of selecting a subset of individuals from a larger population to infer conclusions about the population as a whole.\n"
   ]
  },
  {
   "cell_type": "markdown",
   "metadata": {},
   "source": []
  }
 ],
 "metadata": {
  "language_info": {
   "name": "python"
  }
 },
 "nbformat": 4,
 "nbformat_minor": 2
}
